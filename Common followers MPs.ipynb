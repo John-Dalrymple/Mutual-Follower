{
 "metadata": {
  "language_info": {
   "codemirror_mode": {
    "name": "ipython",
    "version": 3
   },
   "file_extension": ".py",
   "mimetype": "text/x-python",
   "name": "python",
   "nbconvert_exporter": "python",
   "pygments_lexer": "ipython3",
   "version": "3.9.1-final"
  },
  "orig_nbformat": 2,
  "kernelspec": {
   "name": "python3",
   "display_name": "Python 3.9.1 64-bit",
   "metadata": {
    "interpreter": {
     "hash": "3ed0678d6a9afb749e4c0df9b74ca1e6999f26e6ef9c29206bb39e0a66a371b4"
    }
   }
  }
 },
 "nbformat": 4,
 "nbformat_minor": 2,
 "cells": [
  {
   "cell_type": "code",
   "execution_count": 8,
   "metadata": {},
   "outputs": [],
   "source": [
    "import tweepy\n",
    "import webbrowser\n",
    "import time\n",
    "import sys, itertools\n",
    "from itertools import combinations \n",
    "import numpy as np\n",
    "import matplotlib as plt"
   ]
  },
  {
   "cell_type": "code",
   "execution_count": 9,
   "metadata": {},
   "outputs": [],
   "source": [
    "#various access keys\n",
    "consumer_key = \"grAIOzlo15kQ4uWbe51E5tKTy\"\n",
    "consumer_secret = \"myjJxGqw7rwjNL2iX5lVEdrXSJGWLIdDuEuHD0QDt0jnISeIDO\"\n",
    "access_token = \"1277918198688559104-3tVMADcfhKSwLiizuYlsZncyLVcIWW\" \n",
    "access_token_secret = \"N7M2cMeRiWjoB4cr0IHfpZ8Ic4A5fYKh7y0BrQjNvbr4M\" \n",
    "\n",
    "#consumer authentication\n",
    "auth = tweepy.OAuthHandler(consumer_key, consumer_secret)\n",
    "\n",
    "#access code authentication\n",
    "auth.set_access_token(access_token, access_token_secret)\n",
    "\n",
    "#calling the api  \n",
    "api = tweepy.API(auth)"
   ]
  },
  {
   "cell_type": "code",
   "execution_count": 10,
   "metadata": {},
   "outputs": [],
   "source": [
    "# screen name of the user \n",
    "screen_name1 = \"@sianberry\"\n",
    "screen_name2 = \"@NicolaSturgeon\"\n",
    "screen_name3 = \"@Keir_Starmer\"\n",
    "screen_name4 = \"@EdwardJDavey\"\n",
    "screen_name5 = \"@BorisJohnson\"\n",
    "screen_name6 = \"@Nigel_Farage\"\n",
    "\n",
    "# getting the followers list \n",
    "followers1 = api.followers_ids(screen_name1)\n",
    "followers2 = api.followers_ids(screen_name2)\n",
    "followers3 = api.followers_ids(screen_name3)\n",
    "followers4 = api.followers_ids(screen_name4)\n",
    "followers5 = api.followers_ids(screen_name5)\n",
    "followers6 = api.followers_ids(screen_name6)"
   ]
  },
  {
   "cell_type": "code",
   "execution_count": 11,
   "metadata": {},
   "outputs": [
    {
     "output_type": "stream",
     "name": "stdout",
     "text": [
      "@sianberry has 5000 followers.\n@NicolaSturgeon has 5000 followers.\n@Keir_Starmer has 5000 followers.\n@EdwardJDavey has 5000 followers.\n@BorisJohnson has 5000 followers.\n@Nigel_Farage has 5000 followers.\n"
     ]
    }
   ],
   "source": [
    "print(screen_name1 + \" has \" + str(len(followers1)) + \" followers.\") \n",
    "print(screen_name2 + \" has \" + str(len(followers2)) + \" followers.\")\n",
    "print(screen_name3 + \" has \" + str(len(followers3)) + \" followers.\")\n",
    "print(screen_name4 + \" has \" + str(len(followers4)) + \" followers.\")\n",
    "print(screen_name5 + \" has \" + str(len(followers5)) + \" followers.\")\n",
    "print(screen_name6 + \" has \" + str(len(followers6)) + \" followers.\")"
   ]
  },
  {
   "cell_type": "code",
   "execution_count": 12,
   "metadata": {},
   "outputs": [],
   "source": [
    "def common_followers(followers1,followers2):\n",
    "    result = []\n",
    "    for i in followers1:\n",
    "        if i in followers2:\n",
    "            result.append(i)\n",
    "    return result"
   ]
  },
  {
   "cell_type": "code",
   "execution_count": 13,
   "metadata": {},
   "outputs": [],
   "source": [
    "# Get all combinations  \n",
    "# and length 2\n",
    "followers = [followers1,followers2,followers3,followers4,followers5,followers6]\n",
    "\n",
    "  \n",
    "# Print the obtained combinations  "
   ]
  },
  {
   "cell_type": "code",
   "execution_count": 14,
   "metadata": {},
   "outputs": [
    {
     "output_type": "stream",
     "name": "stdout",
     "text": [
      "26\n",
      "44\n",
      "203\n",
      "2\n",
      "9\n",
      "431\n",
      "35\n",
      "121\n",
      "157\n",
      "68\n",
      "158\n",
      "224\n",
      "7\n",
      "17\n",
      "306\n"
     ]
    }
   ],
   "source": [
    "combval = list(combinations([0, 1, 2, 3, 4, 5], 2))\n",
    "for i in range(0,len(combval)):\n",
    "    for j in range(0,len(combval[i])-1):\n",
    "        comp1 = combval[i][j]\n",
    "        comp2 = combval[i][j+1]\n",
    "    commonfollowers = common_followers(followers[comp1],followers[comp2])\n",
    "    print(len(commonfollowers))"
   ]
  },
  {
   "cell_type": "code",
   "execution_count": null,
   "metadata": {},
   "outputs": [],
   "source": []
  }
 ]
}